{
 "cells": [
  {
   "cell_type": "markdown",
   "id": "d2c3ca58",
   "metadata": {},
   "source": [
    "## Counties by GDP\n",
    "**As a data engineer a company that is looking to expand its business across the world recruited me. It wanna make a decision of which counties to enter the market of for expanding its business**\n",
    "### What should i do for the company:\n",
    "1. Extract all these information of the following website page [Website](https://web.archive.org/web/20230902185326/https://en.wikipedia.org/wiki/List_of_countries_by_GDP_%28nominal%29).\n",
    "2. Clean and Transform these dataset to show it in an appealing way for the decision maker.\n",
    "3. Load the Data set into a JSON file `Countries_by_GDP.json` and into a database table `Countries_by_GDP` in database file called `World_Economics.db` with attributes `Country`, `GDP_USD_billion`.\n",
    "3. Create log file to monitor the whole process of extracting, transformain, loading processes."
   ]
  },
  {
   "cell_type": "markdown",
   "id": "a1ba9201",
   "metadata": {},
   "source": [
    "### 1. Import needed libraries"
   ]
  },
  {
   "cell_type": "code",
   "execution_count": 130,
   "id": "33fb2d5f",
   "metadata": {},
   "outputs": [],
   "source": [
    "import pandas as pd\n",
    "import numpy as np\n",
    "import requests\n",
    "import sqlite3\n",
    "import re\n",
    "from datetime import datetime"
   ]
  },
  {
   "cell_type": "markdown",
   "id": "ac7ca0cf",
   "metadata": {},
   "source": [
    "### 2.Send a request to get that page"
   ]
  },
  {
   "cell_type": "code",
   "execution_count": 118,
   "id": "f76d0380",
   "metadata": {},
   "outputs": [
    {
     "data": {
      "text/plain": [
       "200"
      ]
     },
     "execution_count": 118,
     "metadata": {},
     "output_type": "execute_result"
    }
   ],
   "source": [
    "url = 'https://web.archive.org/web/20230902185326/https://en.wikipedia.org/wiki/List_of_countries_by_GDP_%28nominal%29'\n",
    "response = requests.get(url)\n",
    "response.status_code"
   ]
  },
  {
   "cell_type": "code",
   "execution_count": 119,
   "id": "118e07db",
   "metadata": {},
   "outputs": [],
   "source": [
    "json_file = 'Countries_by_GDP.json'\n",
    "database_name = 'World_Economics.db'\n",
    "table_name = 'ountries_by_GDP'"
   ]
  },
  {
   "cell_type": "markdown",
   "id": "0718cc52",
   "metadata": {},
   "source": [
    "#### Because of the needed data is stored in a table in the html page we have two ways to extract this data:\n",
    "1. using `pandas.read_html()`. (What i intend to use 'the easier one').\n",
    "2. using BeautifulSoup."
   ]
  },
  {
   "cell_type": "code",
   "execution_count": 120,
   "id": "c1fa2333",
   "metadata": {},
   "outputs": [],
   "source": [
    "def extract (url):\n",
    "    df = pd.read_html(url)\n",
    "    return df"
   ]
  },
  {
   "cell_type": "code",
   "execution_count": 121,
   "id": "e3f0a351",
   "metadata": {},
   "outputs": [],
   "source": [
    "def Transform (df):\n",
    "    data = df[3]\n",
    "    data = data.iloc[1:,:4]\n",
    "    columns = ['Country','Region','GDP_USD_billion', 'Year']\n",
    "    data.columns = columns\n",
    "    data.GDP_USD_billion = data['GDP_USD_billion'].apply(lambda x: x if re.search(r'[0-9]+',x) else None)\n",
    "    data.dropna(inplace=True)\n",
    "\n",
    "    data.GDP_USD_billion = np.round(data.GDP_USD_billion.astype(float)/1000,2)\n",
    "    \n",
    "    columns_to_drop = ['Region', 'Year']\n",
    "    data.drop(columns = columns_to_drop, inplace=True)\n",
    "    \n",
    "\n",
    "    \n",
    "\n",
    "    return data"
   ]
  },
  {
   "cell_type": "code",
   "execution_count": 165,
   "id": "9de4986d",
   "metadata": {},
   "outputs": [],
   "source": [
    "def Load(data):\n",
    "    data.to_json(f'./files/{json_file}')\n",
    "    conn = sqlite3.connect(f'./files/{database_name}')\n",
    "    \n",
    "    data.to_sql (database_name,conn,if_exists = 'replace' ,index=False)\n",
    "    "
   ]
  },
  {
   "cell_type": "code",
   "execution_count": 171,
   "id": "e6761786",
   "metadata": {},
   "outputs": [],
   "source": [
    "def log(message):\n",
    "    now = datetime.now()\n",
    "    now  = now.strftime('%Y-%B-%d-%H:%M:%S')\n",
    "    \n",
    "    with open('log-file','a') as file:\n",
    "        file.write(f'{now} ---> {message}\\n')\n",
    "    \n",
    "    \n",
    "    \n",
    "    \n",
    "    "
   ]
  },
  {
   "cell_type": "code",
   "execution_count": 172,
   "id": "9997507c",
   "metadata": {},
   "outputs": [],
   "source": [
    "log('Extracting process is started')\n",
    "df = extract(url)\n",
    "log('Extracting process is finished')\n",
    "log('Transforming process is started')\n",
    "df = Transform(df)\n",
    "log('Transforming process is started')\n",
    "log('Loading process is started')\n",
    "Load(df)\n",
    "log('Loading process is started')\n",
    "\n",
    "\n"
   ]
  },
  {
   "cell_type": "code",
   "execution_count": 124,
   "id": "8da034c8",
   "metadata": {},
   "outputs": [
    {
     "data": {
      "text/html": [
       "<div>\n",
       "<style scoped>\n",
       "    .dataframe tbody tr th:only-of-type {\n",
       "        vertical-align: middle;\n",
       "    }\n",
       "\n",
       "    .dataframe tbody tr th {\n",
       "        vertical-align: top;\n",
       "    }\n",
       "\n",
       "    .dataframe thead th {\n",
       "        text-align: right;\n",
       "    }\n",
       "</style>\n",
       "<table border=\"1\" class=\"dataframe\">\n",
       "  <thead>\n",
       "    <tr style=\"text-align: right;\">\n",
       "      <th></th>\n",
       "      <th>Country</th>\n",
       "      <th>GDP_USD_billion</th>\n",
       "    </tr>\n",
       "  </thead>\n",
       "  <tbody>\n",
       "    <tr>\n",
       "      <th>1</th>\n",
       "      <td>United States</td>\n",
       "      <td>26854.60</td>\n",
       "    </tr>\n",
       "    <tr>\n",
       "      <th>2</th>\n",
       "      <td>China</td>\n",
       "      <td>19373.59</td>\n",
       "    </tr>\n",
       "    <tr>\n",
       "      <th>3</th>\n",
       "      <td>Japan</td>\n",
       "      <td>4409.74</td>\n",
       "    </tr>\n",
       "    <tr>\n",
       "      <th>4</th>\n",
       "      <td>Germany</td>\n",
       "      <td>4308.85</td>\n",
       "    </tr>\n",
       "    <tr>\n",
       "      <th>5</th>\n",
       "      <td>India</td>\n",
       "      <td>3736.88</td>\n",
       "    </tr>\n",
       "    <tr>\n",
       "      <th>...</th>\n",
       "      <td>...</td>\n",
       "      <td>...</td>\n",
       "    </tr>\n",
       "    <tr>\n",
       "      <th>206</th>\n",
       "      <td>Marshall Islands</td>\n",
       "      <td>0.29</td>\n",
       "    </tr>\n",
       "    <tr>\n",
       "      <th>208</th>\n",
       "      <td>Palau</td>\n",
       "      <td>0.26</td>\n",
       "    </tr>\n",
       "    <tr>\n",
       "      <th>210</th>\n",
       "      <td>Kiribati</td>\n",
       "      <td>0.25</td>\n",
       "    </tr>\n",
       "    <tr>\n",
       "      <th>211</th>\n",
       "      <td>Nauru</td>\n",
       "      <td>0.15</td>\n",
       "    </tr>\n",
       "    <tr>\n",
       "      <th>213</th>\n",
       "      <td>Tuvalu</td>\n",
       "      <td>0.06</td>\n",
       "    </tr>\n",
       "  </tbody>\n",
       "</table>\n",
       "<p>191 rows × 2 columns</p>\n",
       "</div>"
      ],
      "text/plain": [
       "              Country  GDP_USD_billion\n",
       "1       United States         26854.60\n",
       "2               China         19373.59\n",
       "3               Japan          4409.74\n",
       "4             Germany          4308.85\n",
       "5               India          3736.88\n",
       "..                ...              ...\n",
       "206  Marshall Islands             0.29\n",
       "208             Palau             0.26\n",
       "210          Kiribati             0.25\n",
       "211             Nauru             0.15\n",
       "213            Tuvalu             0.06\n",
       "\n",
       "[191 rows x 2 columns]"
      ]
     },
     "execution_count": 124,
     "metadata": {},
     "output_type": "execute_result"
    }
   ],
   "source": [
    "df = Transform(df)\n",
    "df"
   ]
  }
 ],
 "metadata": {
  "kernelspec": {
   "display_name": "base",
   "language": "python",
   "name": "python3"
  },
  "language_info": {
   "codemirror_mode": {
    "name": "ipython",
    "version": 3
   },
   "file_extension": ".py",
   "mimetype": "text/x-python",
   "name": "python",
   "nbconvert_exporter": "python",
   "pygments_lexer": "ipython3",
   "version": "3.12.7"
  }
 },
 "nbformat": 4,
 "nbformat_minor": 5
}

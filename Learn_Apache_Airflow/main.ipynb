{
 "cells": [
  {
   "cell_type": "markdown",
   "id": "3c91bf7a",
   "metadata": {},
   "source": [
    "### Import libraries"
   ]
  },
  {
   "cell_type": "code",
   "execution_count": null,
   "id": "45e188e7",
   "metadata": {},
   "outputs": [],
   "source": [
    "import requests\n",
    "import pandas as pd\n",
    "import tarfile\n",
    "import os"
   ]
  },
  {
   "cell_type": "markdown",
   "id": "2e1d68da",
   "metadata": {},
   "source": [
    "### Download the data file"
   ]
  },
  {
   "cell_type": "code",
   "execution_count": 86,
   "id": "cc9810f7",
   "metadata": {},
   "outputs": [],
   "source": [
    "#Function that download the .tgz file and unzip it\n",
    "def download_unzip():\n",
    "    file_name = 'tolldata.tgz'  #declare the file.tgz name\n",
    "    \n",
    "    if os.path.exists('output'):\n",
    "        os.system('rm -r output')\n",
    "        os.mkdir('output')\n",
    "    else:\n",
    "        os.mkdir('output')\n",
    "    \n",
    "        \n",
    "    #download the file using requests lib\n",
    "    response = requests.get('https://cf-courses-data.s3.us.cloud-object-storage.appdomain.cloud/IBM-DB0250EN-SkillsNetwork/labs/Final%20Assignment/tolldata.tgz')\n",
    "    if response.status_code == 200:\n",
    "        with open('tolldata.tgz', 'wb') as file:\n",
    "            file.write(response.content)\n",
    "    else:\n",
    "        print(\"Something Wrong Happened\")\n",
    "        \n",
    "    #Unzip the tar file to a directory data_files\n",
    "    try:\n",
    "        with tarfile.open(file_name,'r:gz') as tar:\n",
    "            tar.extractall('source_files')\n",
    "    except tarfile.ReadError as e:\n",
    "        print(f\"Cannot read tar file: {e}\")\n",
    "    except FileNotFoundError as e :\n",
    "        print(f\"{file_name} is not found: {e}\")\n",
    "    except :\n",
    "        print(f\"Something Wrong happend\")\n",
    "    finally:\n",
    "        print(f\"File extracted successfully\")"
   ]
  },
  {
   "cell_type": "markdown",
   "id": "97386fed",
   "metadata": {},
   "source": [
    "### Extract data from csv file\n",
    "We need to extract just the following columns:\n",
    "- Rowid\n",
    "- Timestamp\n",
    "- Anonymized Vehicle Number\n",
    "- Vehicle Type"
   ]
  },
  {
   "cell_type": "code",
   "execution_count": 87,
   "id": "5e7d6f84",
   "metadata": {},
   "outputs": [],
   "source": [
    "def extract_csv_data():\n",
    "    csv_df=pd.read_csv('source_files/vehicle-data.csv',header=None)\n",
    "    col_names = ['Rowid','Timestamp','Anonymized_vehicle_number','Vehicle_type','Number_of_axles','Vehicle_code']\n",
    "    #Add column names \n",
    "    csv_df.columns=col_names\n",
    "    extracted_csv=csv_df[['Rowid','Timestamp','Anonymized_vehicle_number','Vehicle_type']]\n",
    "    extracted_csv.to_csv('output/csv_data.csv',index=False)"
   ]
  },
  {
   "cell_type": "markdown",
   "id": "1c79bd56",
   "metadata": {},
   "source": [
    "### Extract data from tsv file\n",
    "We need to extract just the following columns:\n",
    "- Number of axles\n",
    "- Tollplaza id\n",
    "- Tollplaza code"
   ]
  },
  {
   "cell_type": "code",
   "execution_count": 88,
   "id": "139a54f5",
   "metadata": {},
   "outputs": [],
   "source": [
    "def extract_tsv_data():\n",
    "    #replace tab separator file to comman separator file called tsv_data.csv\n",
    "    with open('source_files/tollplaza-data.tsv', 'r') as file:\n",
    "        with open('output/tsv_data.csv','w') as output:\n",
    "            output.write(file.read().replace('\\t',','))\n",
    "\n",
    "    tsv_df = pd.read_csv('output/tsv_data.csv',header=None)\n",
    "    col_names = ['Rowid','Timestamp','Anonymized_vehicle_number','Vehicle_type','Number_of_axles','Tollplaza_id','Tollplaza_code']\n",
    "    tsv_df.columns=col_names\n",
    "    tsv_df = tsv_df[['Rowid','Number_of_axles','Tollplaza_id','Tollplaza_code']]\n",
    "    tsv_df.to_csv('output/tsv_data.csv',index=False)"
   ]
  },
  {
   "cell_type": "markdown",
   "id": "2518fc85",
   "metadata": {},
   "source": [
    "### Extract data from fixed width file\n",
    "We need to extract just the following columns:\n",
    "- Type of payment\n",
    "- Vehicle Code"
   ]
  },
  {
   "cell_type": "code",
   "execution_count": 89,
   "id": "6f1be717",
   "metadata": {},
   "outputs": [],
   "source": [
    "def extract_fixed_width_data():\n",
    "    row_id=[]\n",
    "    payment_type=[]\n",
    "    vehicle_code=[]\n",
    "    with open('source_files/payment-data.txt','r') as input:\n",
    "        for line in input: \n",
    "            # extract only what we needs which are the last two columns and convert it to csv file\n",
    "            transformed_line = line.strip().replace(' ',',')\n",
    "            # output.write()\n",
    "            ls=transformed_line.split(',')\n",
    "            row_id.append(ls[0])\n",
    "            payment_type.append(ls[-2])\n",
    "            vehicle_code.append(ls[-1])#to remove the addition \\n which is added after split\n",
    "    \n",
    "    dictionary={\n",
    "        'Rowid':row_id,\n",
    "        'Payment_type':payment_type,\n",
    "        'Vehicle_code':vehicle_code\n",
    "    }            \n",
    "                \n",
    "    fixed_df=pd.DataFrame(dictionary)\n",
    "    fixed_df.to_csv('output/fixed_width_data.csv',index=False)\n",
    "                \n",
    "            \n",
    "    \n",
    "    \n",
    "    \n",
    "    # col_names = ['Rowid','Timestamp','Anonymized_vehicle_number','Tollplaza_id','Tollplaza_code','Type_of_payment','Vehicle_code']\n",
    "    # fixed_df.columns = col_names\n",
    "    # fixed_df = fixed_df[['Rowid','Payment_type','Vehicle_type']]\n",
    "    # fixed_df.to_csv('output/fixed_width_data.csv',index=False)"
   ]
  },
  {
   "cell_type": "markdown",
   "id": "40215658",
   "metadata": {},
   "source": [
    "### Consolidate files (Combine the three files into one file called extracted_data.csv)"
   ]
  },
  {
   "cell_type": "code",
   "execution_count": 102,
   "id": "171f2567",
   "metadata": {},
   "outputs": [],
   "source": [
    "def consolidate():    \n",
    "    csv_df = pd.read_csv('output/csv_data.csv')\n",
    "    tsv_df = pd.read_csv('output/tsv_data.csv')\n",
    "    fixed_width_df = pd.read_csv('output/fixed_width_data.csv')\n",
    "    final_df=csv_df.merge(tsv_df,'inner', on=None).merge(fixed_width_df,'inner',on=None)\n",
    "    final_df.to_csv('output/extracted_data.csv',index=False)"
   ]
  },
  {
   "cell_type": "markdown",
   "id": "8dc789c6",
   "metadata": {},
   "source": [
    "### Transform data\n",
    "Do some trivial transformation just for an example like capitalize the Vehicle_type column"
   ]
  },
  {
   "cell_type": "code",
   "execution_count": 108,
   "id": "9e9113e6",
   "metadata": {},
   "outputs": [],
   "source": [
    "def transform():\n",
    "    final_df = pd.read_csv('output/extracted_data.csv')\n",
    "    final_df.Vehicle_type  = final_df['Vehicle_type'].apply(lambda x : x.upper())\n",
    "    final_df.to_csv('output/transformed_data.csv',index=False)\n"
   ]
  },
  {
   "cell_type": "code",
   "execution_count": 109,
   "id": "424e7da2",
   "metadata": {},
   "outputs": [
    {
     "name": "stdout",
     "output_type": "stream",
     "text": [
      "File extracted successfully\n"
     ]
    },
    {
     "name": "stderr",
     "output_type": "stream",
     "text": [
      "/tmp/ipykernel_8423/2984039706.py:23: DeprecationWarning: Python 3.14 will, by default, filter extracted tar archives and reject files or modify their metadata. Use the filter argument to control this behavior.\n",
      "  tar.extractall('source_files')\n"
     ]
    }
   ],
   "source": [
    "download_unzip()\n",
    "extract_csv_data()\n",
    "extract_tsv_data()\n",
    "extract_fixed_width_data()\n",
    "consolidate()\n",
    "transform()"
   ]
  }
 ],
 "metadata": {
  "kernelspec": {
   "display_name": "base",
   "language": "python",
   "name": "python3"
  },
  "language_info": {
   "codemirror_mode": {
    "name": "ipython",
    "version": 3
   },
   "file_extension": ".py",
   "mimetype": "text/x-python",
   "name": "python",
   "nbconvert_exporter": "python",
   "pygments_lexer": "ipython3",
   "version": "3.12.7"
  }
 },
 "nbformat": 4,
 "nbformat_minor": 5
}
